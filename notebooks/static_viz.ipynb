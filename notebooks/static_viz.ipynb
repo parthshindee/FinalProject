{
 "cells": [
  {
   "cell_type": "code",
   "execution_count": 1,
   "metadata": {},
   "outputs": [],
   "source": [
    "import pandas as pd\n",
    "import numpy as np\n",
    "import matplotlib.pyplot as plt"
   ]
  },
  {
   "cell_type": "code",
   "execution_count": 2,
   "metadata": {},
   "outputs": [],
   "source": [
    "fem_act   = pd.read_excel('data/Mouse_Data.xlsx', sheet_name='Fem Act')   # contains a “Minute” column + F1,F2…\n",
    "male_act  = pd.read_excel('data/Mouse_Data.xlsx', sheet_name='Male Act')\n",
    "fem_temp  = pd.read_excel('data/Mouse_Data.xlsx', sheet_name='Fem Temp')\n",
    "male_temp = pd.read_excel('data/Mouse_Data.xlsx', sheet_name='Male Temp')\n",
    "\n",
    "fem_act   = fem_act.iloc[:, 1:].copy()\n",
    "male_act  = male_act.iloc[:, 1:].copy()\n",
    "fem_temp  = fem_temp.iloc[:, 1:].copy()\n",
    "male_temp = male_temp.iloc[:, 1:].copy()\n",
    "\n"
   ]
  },
  {
   "cell_type": "code",
   "execution_count": 3,
   "metadata": {},
   "outputs": [],
   "source": [
    "N = fem_act.shape[0]\n",
    "assert all(df.shape[0] == N for df in (male_act, fem_temp, male_temp))"
   ]
  },
  {
   "cell_type": "code",
   "execution_count": 4,
   "metadata": {},
   "outputs": [],
   "source": [
    "minutes = pd.RangeIndex(start=0, stop=N, name='idx')\n",
    "meta = pd.DataFrame({\n",
    "    'day':           (minutes // 1440) + 1,\n",
    "    'minute_of_day': minutes % 1440\n",
    "}, index=minutes)\n",
    "\n",
    "estrus_days = [2, 6, 10, 14]\n",
    "is_estrus   = meta['day'].isin(estrus_days)\n",
    "\n",
    "female_ids = fem_act.columns.tolist()\n",
    "male_ids   = male_act.columns.tolist()"
   ]
  },
  {
   "cell_type": "code",
   "execution_count": 5,
   "metadata": {},
   "outputs": [],
   "source": [
    "plt.figure(figsize=(8,4))\n",
    "mean_f = fem_act.groupby(meta['minute_of_day']).mean().mean(axis=1)\n",
    "mean_m = male_act.groupby(meta['minute_of_day']).mean().mean(axis=1)\n",
    "plt.plot(mean_f.index, mean_f.values, label='Female')\n",
    "plt.plot(mean_m.index, mean_m.values, label='Male')\n",
    "plt.xlabel('Minute of Day')\n",
    "plt.ylabel('Mean Activity')\n",
    "plt.title('Average 24-h Activity Profile by Sex')\n",
    "plt.legend()\n",
    "plt.tight_layout()\n",
    "plt.savefig('fig1_mean_activity_by_sex.png')\n",
    "plt.close()"
   ]
  },
  {
   "cell_type": "code",
   "execution_count": 6,
   "metadata": {},
   "outputs": [],
   "source": [
    "plt.figure(figsize=(8,4))\n",
    "# Female grouped by minute & estrus\n",
    "ft_grp = fem_temp.groupby([meta['minute_of_day'], is_estrus]).mean()\n",
    "mean_non = ft_grp.xs(False, level=1).mean(axis=1)\n",
    "mean_yes = ft_grp.xs(True,  level=1).mean(axis=1)\n",
    "# Male overall\n",
    "mean_male_temp = male_temp.groupby(meta['minute_of_day']).mean().mean(axis=1)\n",
    "\n",
    "plt.plot(mean_non.index, mean_non.values, '-',  label='Female Non-Estrus')\n",
    "plt.plot(mean_yes.index, mean_yes.values, '--', label='Female Estrus')\n",
    "plt.plot(mean_male_temp.index, mean_male_temp.values, ':', label='Male (all days)')\n",
    "plt.xlabel('Minute of Day')\n",
    "plt.ylabel('Core Temperature (°C)')\n",
    "plt.title('24-h Temperature Rhythms: Females & Males')\n",
    "plt.legend()\n",
    "plt.tight_layout()\n",
    "plt.savefig('fig2_temperature_rhythm.png')\n",
    "plt.close()"
   ]
  },
  {
   "cell_type": "code",
   "execution_count": 7,
   "metadata": {},
   "outputs": [],
   "source": [
    "rep_f = female_ids[0]\n",
    "rep_m = male_ids[0]\n",
    "mat_f = fem_act[rep_f].values.reshape(14, 1440)\n",
    "mat_m = male_act[rep_m].values.reshape(14, 1440)\n",
    "\n",
    "fig, (ax1, ax2) = plt.subplots(2, 1, figsize=(10,6), sharex=True)\n",
    "ax1.imshow(mat_f, aspect='auto', origin='lower')\n",
    "ax1.set_title(f'Female {rep_f} Activity Heatmap')\n",
    "ax1.set_ylabel('Day')\n",
    "ax2.imshow(mat_m, aspect='auto', origin='lower')\n",
    "ax2.set_title(f'Male {rep_m} Activity Heatmap')\n",
    "ax2.set_ylabel('Day')\n",
    "ax2.set_xlabel('Minute of Day')\n",
    "plt.tight_layout()\n",
    "plt.savefig('fig3_activity_heatmaps.png')\n",
    "plt.close()"
   ]
  },
  {
   "cell_type": "code",
   "execution_count": 8,
   "metadata": {},
   "outputs": [
    {
     "name": "stderr",
     "output_type": "stream",
     "text": [
      "/var/folders/sd/54269wrn4fz6bkfc0cnb4n4h0000gn/T/ipykernel_5018/75177944.py:15: MatplotlibDeprecationWarning: The 'labels' parameter of boxplot() has been renamed 'tick_labels' since Matplotlib 3.9; support for the old name will be dropped in 3.11.\n",
      "  plt.boxplot([vals_non, vals_yes], labels=['Non-Estrus','Estrus'])\n"
     ]
    }
   ],
   "source": [
    "df_t = fem_temp.copy()\n",
    "df_t['day']           = meta['day']\n",
    "df_t['minute_of_day'] = meta['minute_of_day']\n",
    "df_t['is_estrus']     = is_estrus\n",
    "\n",
    "# Keep only dark phase (minutes ≥ 720)\n",
    "dark_df = df_t[df_t['minute_of_day'] >= 720]\n",
    "# Mean temp per day & estrus flag (one value per mouse per day)\n",
    "grp = dark_df.groupby(['day','is_estrus'])[female_ids].mean()\n",
    "# Flatten to two arrays\n",
    "vals_non = grp.xs(False, level=1).values.flatten()\n",
    "vals_yes = grp.xs(True,  level=1).values.flatten()\n",
    "\n",
    "plt.figure(figsize=(6,4))\n",
    "plt.boxplot([vals_non, vals_yes], labels=['Non-Estrus','Estrus'])\n",
    "plt.ylabel('Mean Dark-Phase Temp (°C)')\n",
    "plt.title('Dark-Phase Temperature by Estrus Status')\n",
    "plt.tight_layout()\n",
    "plt.savefig('fig4_boxplot_temp.png')\n",
    "plt.close()"
   ]
  },
  {
   "cell_type": "code",
   "execution_count": 9,
   "metadata": {},
   "outputs": [],
   "source": [
    "rng = np.random.default_rng(0)\n",
    "idx_sample = rng.choice(N, size=20000, replace=False)\n",
    "x = fem_act.iloc[idx_sample][rep_f]\n",
    "y = fem_temp.iloc[idx_sample][rep_f]\n",
    "c = is_estrus.iloc[idx_sample].astype(int)\n",
    "\n",
    "plt.figure(figsize=(6,6))\n",
    "plt.scatter(x, y, s=2, alpha=0.5, c=c)\n",
    "plt.xlabel('Activity')\n",
    "plt.ylabel('Core Temperature (°C)')\n",
    "plt.title(f'Activity vs Temp for {rep_f} (colored by estrus)')\n",
    "plt.tight_layout()\n",
    "plt.savefig('fig5_scatter_activity_temp.png')\n",
    "plt.close()"
   ]
  },
  {
   "cell_type": "code",
   "execution_count": 10,
   "metadata": {},
   "outputs": [],
   "source": [
    "fig, (ax1, ax2) = plt.subplots(2, 1, figsize=(10,6), sharex=True)\n",
    "ax1.plot(fem_act.index, fem_act[rep_f], linewidth=0.5)\n",
    "ax1.set_ylabel('Activity')\n",
    "ax1.set_title(f'{rep_f} Activity Over 14 Days')\n",
    "ax2.plot(fem_temp.index, fem_temp[rep_f], linewidth=0.5)\n",
    "ax2.set_ylabel('Temperature (°C)')\n",
    "ax2.set_title(f'{rep_f} Temperature Over 14 Days')\n",
    "\n",
    "for d in estrus_days:\n",
    "    onset = (d - 1) * 1440\n",
    "    ax1.axvline(onset, linestyle='--', linewidth=1)\n",
    "    ax2.axvline(onset, linestyle='--', linewidth=1)\n",
    "\n",
    "ax2.set_xlabel('Minute Index')\n",
    "plt.tight_layout()\n",
    "plt.savefig('fig6_timeseries_estrus.png')\n",
    "plt.close()"
   ]
  },
  {
   "cell_type": "code",
   "execution_count": null,
   "metadata": {},
   "outputs": [],
   "source": []
  }
 ],
 "metadata": {
  "kernelspec": {
   "display_name": "Python 3",
   "language": "python",
   "name": "python3"
  },
  "language_info": {
   "codemirror_mode": {
    "name": "ipython",
    "version": 3
   },
   "file_extension": ".py",
   "mimetype": "text/x-python",
   "name": "python",
   "nbconvert_exporter": "python",
   "pygments_lexer": "ipython3",
   "version": "3.13.1"
  }
 },
 "nbformat": 4,
 "nbformat_minor": 2
}
